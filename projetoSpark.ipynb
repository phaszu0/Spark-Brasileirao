{
 "cells": [
  {
   "cell_type": "code",
   "execution_count": 1,
   "id": "29cdbfe2",
   "metadata": {},
   "outputs": [
    {
     "data": {
      "text/plain": [
       "'\\nID - ID da partida\\nLegenda - campeonato-brasileiro-full.csv\\nRodada : Rodada que aconteceu a partida\\nData : Data que ocorreu a partida\\nHorário :  Horário que ocorreu a partida\\nDia : Dia da semana que ocorreu a partida\\nMandante : Clube mandante                      \\nVisitante : Clube Visitante                      \\nVencedor : Clube vencedor da partida. Quando tiver \"-\", é um empate\\nArena : Arena que ocorreu a partida                      \\nMandante Placar : Gols que o clube mandante fez na partida                      \\nVisitante Placar : Gols que o clube visitante fez na partida                      \\nEstado Mandante : Estado do clube mandatorio                      \\nEstado Visitante : Estado do clube visitante                      \\nEstado Vencedor : Estado do clube vencedor. Quando tiver \"-\", é um empate\\n\\n\\nLegenda - campeonato-brasileiro-estatisticas-full.csv\\nID - ID da partida\\nMandante - 0 == Não (Visitante), 1 == Sim (Mandante)\\nChutes - Finalizações\\nChutes a gol - Finalizações na direção do gol\\nPosse de bola - Percentual da posse de bola\\nPasses - Quantidade de passes que o clube deu na partida\\nPrecisão de Passe - Percentual da precisão de passe\\nFaltas - Quantidade de faltas cometidas na partida\\nCartões Amarelo - Quantidade de cartões amarelos para o clube na partida\\nCartões Vermelhos - Quantidade de cartões vermelhos para o clube na partida\\nImpedimentos - Quantidade de impedimentos para o clube na partida\\nEscanteios - Quantidade de escanteios para o clube na partida\\n\\n'"
      ]
     },
     "execution_count": 1,
     "metadata": {},
     "output_type": "execute_result"
    }
   ],
   "source": [
    "\"\"\"\n",
    "ID - ID da partida\n",
    "Legenda - campeonato-brasileiro-full.csv\n",
    "Rodada : Rodada que aconteceu a partida\n",
    "Data : Data que ocorreu a partida\n",
    "Horário :  Horário que ocorreu a partida\n",
    "Dia : Dia da semana que ocorreu a partida\n",
    "Mandante : Clube mandante                      \n",
    "Visitante : Clube Visitante                      \n",
    "Vencedor : Clube vencedor da partida. Quando tiver \"-\", é um empate\n",
    "Arena : Arena que ocorreu a partida                      \n",
    "Mandante Placar : Gols que o clube mandante fez na partida                      \n",
    "Visitante Placar : Gols que o clube visitante fez na partida                      \n",
    "Estado Mandante : Estado do clube mandatorio                      \n",
    "Estado Visitante : Estado do clube visitante                      \n",
    "Estado Vencedor : Estado do clube vencedor. Quando tiver \"-\", é um empate\n",
    "\n",
    "\n",
    "Legenda - campeonato-brasileiro-estatisticas-full.csv\n",
    "ID - ID da partida\n",
    "Mandante - 0 == Não (Visitante), 1 == Sim (Mandante)\n",
    "Chutes - Finalizações\n",
    "Chutes a gol - Finalizações na direção do gol\n",
    "Posse de bola - Percentual da posse de bola\n",
    "Passes - Quantidade de passes que o clube deu na partida\n",
    "Precisão de Passe - Percentual da precisão de passe\n",
    "Faltas - Quantidade de faltas cometidas na partida\n",
    "Cartões Amarelo - Quantidade de cartões amarelos para o clube na partida\n",
    "Cartões Vermelhos - Quantidade de cartões vermelhos para o clube na partida\n",
    "Impedimentos - Quantidade de impedimentos para o clube na partida\n",
    "Escanteios - Quantidade de escanteios para o clube na partida\n",
    "\n",
    "\"\"\"\n"
   ]
  },
  {
   "cell_type": "code",
   "execution_count": 2,
   "id": "c0dc1d9b",
   "metadata": {},
   "outputs": [],
   "source": [
    "from pyspark.sql import SparkSession\n",
    "from pyspark.sql import Row\n",
    "\n",
    "\n",
    "\n",
    "spark = SparkSession.builder\\\n",
    "    .master('local')\\\n",
    "    .appName(\"Analise Dados Brasileirão\")\\\n",
    "    .config('spark.ui.port','4050')\\\n",
    "    .getOrCreate()\n"
   ]
  },
  {
   "cell_type": "code",
   "execution_count": 3,
   "id": "916a438f",
   "metadata": {},
   "outputs": [],
   "source": [
    "#carregando dataset de estatistica campeonato brasileiro\n",
    "\n",
    "stsFull = spark.read.csv(\"campeonato-brasileiro-estatisticas-full.csv\",\n",
    "                         inferSchema=True, \n",
    "                         header=True,\n",
    "                         sep=';')\n",
    "#carregando dataset de resultado jogos campeonato brasileiro\n",
    "\n",
    "sts = spark.read.csv(\"campeonato-brasileiro-full.csv\",\n",
    "                     inferSchema=True, \n",
    "                     header=True,\n",
    "                     sep=';')\n",
    "#criando view para trartamento dos dados via sql spark\n",
    "\n",
    "stsFull.createOrReplaceTempView('vwSTSfull')\n",
    "sts.createOrReplaceTempView('vwSTS')"
   ]
  },
  {
   "cell_type": "code",
   "execution_count": 4,
   "id": "0c4bab1f",
   "metadata": {},
   "outputs": [],
   "source": [
    "\n",
    "#criando  dataset para tratamento da informação\n",
    "estatisticaBrasileirao = spark.sql(\"\"\"\n",
    "        select distinct\n",
    "             x.id, x.rodada, x.dia, x.mandante, x.visitante, x.vencedor,x.data,\n",
    "             y.chutes, y.chutes_a_gol, y.passes, y.posse_de_bola,\n",
    "             case\n",
    "                 when y.mandante = 1 then y.chutes end chutes_mandante,\n",
    "             case\n",
    "                 when y.mandante = 1 then y.chutes_a_gol end chutes_gol_mandante,\n",
    "             case\n",
    "                 when y.mandante = 1 then y.passes end passes_mandante,\n",
    "             case\n",
    "                 when y.mandante = 1 then y.posse_de_bola end posse_bola_mandante,\n",
    "             case\n",
    "                 when y.mandante = 0 then y.chutes end chutes_visitante,\n",
    "             case\n",
    "                 when y.mandante = 0 then y.chutes_a_gol end chutes_gol_visitante,\n",
    "             case\n",
    "                 when y.mandante = 0 then y.passes end passes_visitante,\n",
    "             case\n",
    "                 when y.mandante = 0 then y.posse_de_bola end posse_bola_visitante\n",
    "                 \n",
    "        from vwSTS x\n",
    "            join vwSTSfull y on\n",
    "             x.id = y.id\n",
    "\"\"\")"
   ]
  },
  {
   "cell_type": "code",
   "execution_count": 5,
   "id": "772bafad",
   "metadata": {},
   "outputs": [
    {
     "name": "stdout",
     "output_type": "stream",
     "text": [
      "root\n",
      " |-- id: integer (nullable = true)\n",
      " |-- rodada: string (nullable = true)\n",
      " |-- dia: string (nullable = true)\n",
      " |-- mandante: string (nullable = true)\n",
      " |-- visitante: string (nullable = true)\n",
      " |-- vencedor: string (nullable = true)\n",
      " |-- data: string (nullable = true)\n",
      " |-- chutes: integer (nullable = true)\n",
      " |-- chutes_a_gol: integer (nullable = true)\n",
      " |-- passes: integer (nullable = true)\n",
      " |-- posse_de_bola: string (nullable = true)\n",
      " |-- chutes_mandante: integer (nullable = true)\n",
      " |-- chutes_gol_mandante: integer (nullable = true)\n",
      " |-- passes_mandante: integer (nullable = true)\n",
      " |-- posse_bola_mandante: string (nullable = true)\n",
      " |-- chutes_visitante: integer (nullable = true)\n",
      " |-- chutes_gol_visitante: integer (nullable = true)\n",
      " |-- passes_visitante: integer (nullable = true)\n",
      " |-- posse_bola_visitante: string (nullable = true)\n",
      "\n"
     ]
    }
   ],
   "source": [
    "estatisticaBrasileirao.printSchema()"
   ]
  },
  {
   "cell_type": "code",
   "execution_count": null,
   "id": "bb895822",
   "metadata": {},
   "outputs": [],
   "source": []
  },
  {
   "cell_type": "code",
   "execution_count": null,
   "id": "42d2fc65",
   "metadata": {},
   "outputs": [],
   "source": []
  },
  {
   "cell_type": "code",
   "execution_count": null,
   "id": "c0de11cc",
   "metadata": {},
   "outputs": [],
   "source": []
  }
 ],
 "metadata": {
  "kernelspec": {
   "display_name": "Python 3 (ipykernel)",
   "language": "python",
   "name": "python3"
  },
  "language_info": {
   "codemirror_mode": {
    "name": "ipython",
    "version": 3
   },
   "file_extension": ".py",
   "mimetype": "text/x-python",
   "name": "python",
   "nbconvert_exporter": "python",
   "pygments_lexer": "ipython3",
   "version": "3.9.7"
  }
 },
 "nbformat": 4,
 "nbformat_minor": 5
}
